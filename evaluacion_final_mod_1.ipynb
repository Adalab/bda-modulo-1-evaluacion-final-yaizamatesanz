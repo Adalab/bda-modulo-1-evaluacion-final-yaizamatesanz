{
 "cells": [
  {
   "cell_type": "code",
   "execution_count": 54,
   "metadata": {},
   "outputs": [],
   "source": [
    "import re\n",
    "\n",
    "class Tiendaonline:\n",
    "\n",
    "    def __init__(self):\n",
    "        #Creamos atributos que se van a usar en la clase.\n",
    "        self.inventario = [] #Creamos una lista para almacenar los productos del inventario.\n",
    "        self.clientes = {} #Creamos diccionario para almacenar los clientes y su historial de compra.\n",
    "        self.ventas_totales = 0.0 #Variable que almacena ventas totales.\n",
    "\n",
    "    def agregar_producto(self, nombre, precio, cantidad):\n",
    "        nombre = nombre.lower() #Solucionamos problemas de mayúsculas.\n",
    "        for producto in self.inventario:\n",
    "            if producto[\"nombre\"].lower() == nombre:\n",
    "                producto[\"cantidad\"] += cantidad\n",
    "                return\n",
    "        self.inventario.append({\"nombre\": nombre, \"precio\": precio,\"cantidad\": cantidad})\n",
    "\n",
    "    #Agregamos o actualizamos un producto dentro del inventario.\n",
    "\n",
    "    def ver_inventario(self):\n",
    "        for producto in self.inventario:\n",
    "            print(f\"Nombre: {producto['nombre']}, Precio: {producto['precio']}€, Cantidad: {producto['cantidad']}\")\n",
    "    \n",
    "    #Mostramos los detalles del producto.\n",
    "    #Usamos comillas simples dentro del f-strings permiten incluir valores de diccionarios en cadenas.\n",
    "\n",
    "    def buscar_producto(self, nombre):\n",
    "        nombre = nombre.lower()\n",
    "        for producto in self.inventario:\n",
    "            if producto[\"nombre\"] == nombre:\n",
    "                print(f\"Nombre: {producto['nombre']}, Precio: {producto['precio']}€, Cantidad: {producto['cantidad']}\")\n",
    "                return\n",
    "        print(f\"El producto {nombre} no se encuentra en el inventario.\")\n",
    "        return None\n",
    "\n",
    "    #Buscamos un producto en el inventario por nombre. Si está: muestra sus detalles.\n",
    "\n",
    "    def actualizar_stock(self, nombre, cantidad):\n",
    "        nombre = nombre.lower()\n",
    "        for producto in self.inventario:\n",
    "            if producto[\"nombre\"] == nombre:\n",
    "                producto[\"cantidad\"] = cantidad\n",
    "                return\n",
    "        print(f\"El producto {nombre} no se encuentra en el inventario.\")\n",
    "\n",
    "    #Actualizamos producto si está en inventario.\n",
    "\n",
    "    def eliminar_producto(self, nombre):\n",
    "        nombre = nombre.lower()\n",
    "        for producto in self.inventario:\n",
    "            if producto[\"nombre\"] == nombre:\n",
    "                self.inventario.remove(producto)\n",
    "                return\n",
    "        print(f\"El producto {nombre} no se encuentra en el inventario.\")\n",
    "\n",
    "    #Eliminamos producto si está en inventario.\n",
    "\n",
    "    def calcular_valor_inventario(self):\n",
    "        valor_total = sum(producto['precio'] * producto['cantidad']\n",
    "        for producto in self.inventario)\n",
    "        \n",
    "        print(f\"El valor total del inventario es: {valor_total}€\")\n",
    "        return\n",
    "    \n",
    "    #El for dentro de sum recorre el inventario para calcular el total de cada producto.\n",
    "\n",
    "    def buscar_producto_regex(self, patron):\n",
    "        productos_encontrados = [] #En esta lista almacenamos los productos que coincidan con el patrón de búsqueda.\n",
    "        \n",
    "        for producto in self.inventario:\n",
    "            if re.search(patron.lower(), producto['nombre'].lower()):\n",
    "                productos_encontrados.append(producto)\n",
    "                print(f\"Nombre: {producto['nombre']}, Precio: {producto['precio']}€, Cantidad: {producto['cantidad']}\")\n",
    "        if not productos_encontrados:\n",
    "            print(\"No se han encontrado productos con el patrón {patron}\")\n",
    "\n",
    "#1. Importamos librería re (ponemos 'import re' al principio del código) para usar expresiones regulares en el código.\n",
    "#2. Usamos \"re.search\" y no \"re.match\" para buscar el patrón en cualquier parte del string., y no solo al principio.\n",
    "\n",
    "    def realizar_compra(self):\n",
    "        carrito = {} #Diccionario vacío para almacenar los productos seleccionados.\n",
    "        self.total_compra = 0 #Inicializamos la variable total_compra para almacenar lo que debe pagar.\n",
    "\n",
    "        while True:\n",
    "            nombre_producto = input(\"Introduce el nombre del producto que quieres comprar.\").lower()\n",
    "            producto = self.buscar_producto(nombre_producto)\n",
    "\n",
    "            if producto:\n",
    "                cantidad = int(input(f\"Introduce las unidades de {nombre_producto} que quieres comprar.\"))\n",
    "                if cantidad <= producto[\"cantidad\"]:\n",
    "                    producto[\"cantidad\"] -= cantidad\n",
    "                    self.total_compra += producto[\"precio\"] * cantidad\n",
    "                    carrito[nombre_producto] = carrito.get(nombre_producto, 0) + cantidad\n",
    "                else:\n",
    "                    print(f\"¡Lo sentimos! No tenemos tantas unidades. Sólo nos quedan: {producto['cantidad']} unidades.\")\n",
    "            else:\n",
    "                print(f\"¡Lo sentimos! No tenemos {nombre_producto} en stock.\")\n",
    "\n",
    "            meter_mas_productos = input(\"¿Quieres añadir otro producto? Responde sí o no\").lower()\n",
    "            if meter_mas_productos == \"no\":\n",
    "                print(\"¡Genial! Gracias por comprar en nuestra tienda. ¡Hasta la próxima!\")\n",
    "                break\n",
    "\n",
    "#Llamamos al método \"buscar_producto\" creado anteriormente, lo usamos para buscar en nuestro inventario.\n",
    "\n",
    "    def procesar_pago(self):\n",
    "\n",
    "        while True:\n",
    "            try:\n",
    "                pago = float(input(f\"Introduce el monto que vas a pagar. Total a pagar: {self.total_compra}€: \"))\n",
    "                if pago >= self.total_compra:\n",
    "                    cambio = pago - self.total_compra\n",
    "                    self.ventas_totales += self.total_compra\n",
    "                    print(f\"Se ha realizado el pago correctamente. Le devolvemos: {cambio}€\")\n",
    "                    break\n",
    "                else:\n",
    "                    print(f\"Te falta por ingresar {self.total_compra - pago}€\")\n",
    "            except ValueError:\n",
    "                print(\"Monto insuficiente.\")\n",
    "\n",
    "#Maneja el proceso de pago, calcula el cambio y actualiza ventas totales.\n",
    "#El uso de try...except asegura manejo de errores durante la transacción.\n",
    "\n",
    "    def agregar_cliente(self, nombre, email):\n",
    "        nombre = nombre.lower()\n",
    "        \n",
    "        if nombre not in self.clientes:\n",
    "            self.clientes[nombre] = {\"email\": email, \"compras\": []}\n",
    "            print(f\"Cliente {nombre} agregado con éxito.\")\n",
    "            print(self.clientes) #imprimimos para verificar que se ha agregado correctamente.\n",
    "        else:\n",
    "            print(f\"El cliente {nombre} ya está registrado.\")\n",
    "\n",
    "#Se añade nuevo diccionario para almacenar información del nuevo cliente.\n",
    "#Verificamos si ya está registrado para evitar duplicados.\n",
    "\n",
    "    def ver_clientes(self):\n",
    "        if self.clientes:\n",
    "            for nombre, datos in self.clientes.items():\n",
    "                print(f\"Nombre: {nombre}, Email: {datos['email']}\")\n",
    "        else:\n",
    "            print(\"No hay clientes registrados.\")\n",
    "\n",
    "#Recorrer el diccionario de clientes para comprobar que lo tenemos.\n",
    "\n",
    "    def registrar_compra(self, nombre_cliente, carrito):\n",
    "        nombre_cliente = nombre_cliente.lower()\n",
    "        \n",
    "        if nombre_cliente in self.clientes:\n",
    "            total_compra = sum(item['precio'] * item['cantidad'] for item in carrito.values())\n",
    "            self.clientes[nombre_cliente]['compras'].append({'carrito': carrito, 'total': total_compra})\n",
    "            self.ventas_totales += total_compra\n",
    "            print(f\"Compra registrada para {nombre_cliente}. Total: {total_compra}€\")\n",
    "        else:\n",
    "            print(f\"El cliente {nombre_cliente} no está registrado.\")\n",
    "\n",
    "#Se registra compra para un cliente ya registrado. Actualiza el historial de compras.\n",
    "\n",
    "    def ver_compras_cliente(self, nombre_cliente):\n",
    "        nombre_cliente = nombre_cliente.lower()\n",
    "\n",
    "        if nombre_cliente in self.clientes:\n",
    "            compras = self.clientes[nombre_cliente] [\"compras\"]\n",
    "            if compras:\n",
    "                for compra in compras:\n",
    "                    print(f\"Compra: {compra}\")\n",
    "            else:\n",
    "                print(f\"{nombre_cliente} no ha realizado ninguna compra.\")\n",
    "        else:\n",
    "            print(f\"El cliente {nombre_cliente} no está registrado.\")\n",
    "    \n",
    "#Muestra el historial de compras de un cliente y verifica que el cliente esté registrado.\n",
    "\n",
    "    def calcular_ventas_totales(self):\n",
    "        print(f\"Las ventas totales de la tienda son: {self.ventas_totales}€.\")\n",
    "        return\n",
    "    \n",
    "#Calcula y nos muestra eltotalde ventas de nuestra tienda."
   ]
  },
  {
   "cell_type": "markdown",
   "metadata": {},
   "source": [
    "♥ ♥ ¡Vamos a crear un ejemplo para ranear el código! ♥ ♥ "
   ]
  },
  {
   "cell_type": "code",
   "execution_count": 39,
   "metadata": {},
   "outputs": [
    {
     "name": "stdout",
     "output_type": "stream",
     "text": [
      "<__main__.Tiendaonline object at 0x1079bf810>\n"
     ]
    }
   ],
   "source": [
    "#1. Creamos una instancia de Tiendaonline para nuestra web frikinchi:\n",
    "\n",
    "tiendaserieb = Tiendaonline()\n",
    "print(tiendaserieb)"
   ]
  },
  {
   "cell_type": "code",
   "execution_count": 40,
   "metadata": {},
   "outputs": [],
   "source": [
    "#2. Agregamos productos al inventario:\n",
    "\n",
    "tiendaserieb.agregar_producto(\"Cabeza Eraserhead\", 333, 3)\n",
    "tiendaserieb.agregar_producto(\"DVD Videodrome\", 25, 37)\n",
    "tiendaserieb.agregar_producto(\"VHS Twin Peaks\", 15, 73)\n",
    "tiendaserieb.agregar_producto(\"Vinilo La Mosca\", 33, 13)"
   ]
  },
  {
   "cell_type": "code",
   "execution_count": 41,
   "metadata": {},
   "outputs": [
    {
     "name": "stdout",
     "output_type": "stream",
     "text": [
      "Nombre: cabeza eraserhead, Precio: 333€, Cantidad: 3\n",
      "Nombre: dvd videodrome, Precio: 25€, Cantidad: 37\n",
      "Nombre: vhs twin peaks, Precio: 15€, Cantidad: 73\n",
      "Nombre: vinilo la mosca, Precio: 33€, Cantidad: 13\n"
     ]
    }
   ],
   "source": [
    "#3. ¡Vemos todo lo que tenemos en nuestro inventario!:\n",
    "\n",
    "tiendaserieb.ver_inventario()"
   ]
  },
  {
   "cell_type": "code",
   "execution_count": 42,
   "metadata": {},
   "outputs": [
    {
     "name": "stdout",
     "output_type": "stream",
     "text": [
      "Nombre: vhs twin peaks, Precio: 15€, Cantidad: 73\n"
     ]
    },
    {
     "data": {
      "text/plain": [
       "{'nombre': 'vhs twin peaks', 'precio': 15, 'cantidad': 73}"
      ]
     },
     "execution_count": 42,
     "metadata": {},
     "output_type": "execute_result"
    }
   ],
   "source": [
    "#4. ¿Buscamos uno de nuestros productos?\n",
    "\n",
    "tiendaserieb.buscar_producto(\"VHS Twin Peaks\")"
   ]
  },
  {
   "cell_type": "code",
   "execution_count": 43,
   "metadata": {},
   "outputs": [
    {
     "name": "stdout",
     "output_type": "stream",
     "text": [
      "Nombre: cabeza eraserhead, Precio: 333€, Cantidad: 3\n",
      "Nombre: dvd videodrome, Precio: 25€, Cantidad: 37\n",
      "Nombre: vhs twin peaks, Precio: 15€, Cantidad: 20\n",
      "Nombre: vinilo la mosca, Precio: 33€, Cantidad: 13\n"
     ]
    }
   ],
   "source": [
    "#5. ¡Chias! Nos equivocamos en el precio del VHS de Twin Peaks. Vamos a actualizarlo.\n",
    "\n",
    "tiendaserieb.actualizar_stock(\"VHS Twin Peaks\", 20) \n",
    "tiendaserieb.ver_inventario()\n",
    "\n",
    "#Al ranear me di cuenta que había hecho una suma. Cambién el método de '+=' a '='."
   ]
  },
  {
   "cell_type": "code",
   "execution_count": 44,
   "metadata": {},
   "outputs": [
    {
     "name": "stdout",
     "output_type": "stream",
     "text": [
      "Nombre: cabeza eraserhead, Precio: 333€, Cantidad: 3\n",
      "Nombre: dvd videodrome, Precio: 25€, Cantidad: 37\n",
      "Nombre: vhs twin peaks, Precio: 15€, Cantidad: 20\n"
     ]
    }
   ],
   "source": [
    "#6. ¡Nos equivocamos! Vamos a eliminar el producto \"Vinilo La Mosca\". Ya no hay stock.\n",
    "\n",
    "tiendaserieb.eliminar_producto(\"vinilo la mosca\")\n",
    "tiendaserieb.ver_inventario()"
   ]
  },
  {
   "cell_type": "code",
   "execution_count": 45,
   "metadata": {},
   "outputs": [
    {
     "name": "stdout",
     "output_type": "stream",
     "text": [
      "El valor total del inventario es: 2224€\n"
     ]
    }
   ],
   "source": [
    "#7. Calculemos el valor de nuestro súper inventario friki. ♥\n",
    "\n",
    "tiendaserieb.calcular_valor_inventario()"
   ]
  },
  {
   "cell_type": "code",
   "execution_count": 46,
   "metadata": {},
   "outputs": [
    {
     "name": "stdout",
     "output_type": "stream",
     "text": [
      "Nombre: dvd videodrome, Precio: 25€, Cantidad: 37\n"
     ]
    }
   ],
   "source": [
    "#8. Necesitamos buscar un patrón de búsqueda en los nombres de nuestro inventario:\n",
    "\n",
    "tiendaserieb.buscar_producto_regex(r\"^d\")"
   ]
  },
  {
   "cell_type": "code",
   "execution_count": 47,
   "metadata": {},
   "outputs": [
    {
     "name": "stdout",
     "output_type": "stream",
     "text": [
      "Nombre: dvd videodrome, Precio: 25€, Cantidad: 37\n",
      "¡Genial! Gracias por comprar en nuestra tienda. ¡Hasta la próxima!\n"
     ]
    }
   ],
   "source": [
    "#9. ¿Hacemos nuestra primera comprita-prueba?\n",
    "\n",
    "tiendaserieb.realizar_compra()\n",
    "    #Añadí .lower() en variable dentro de varios métodos para solucionar problema que tuve al ranear."
   ]
  },
  {
   "cell_type": "code",
   "execution_count": 48,
   "metadata": {},
   "outputs": [
    {
     "name": "stdout",
     "output_type": "stream",
     "text": [
      "Te falta por ingresar 5.0€\n",
      "Se ha realizado el pago correctamente. Le devolvemos: 0.0€\n"
     ]
    }
   ],
   "source": [
    "#10. Procesamos el pago.\n",
    "\n",
    "tiendaserieb.procesar_pago()"
   ]
  },
  {
   "cell_type": "code",
   "execution_count": 49,
   "metadata": {},
   "outputs": [
    {
     "name": "stdout",
     "output_type": "stream",
     "text": [
      "Cliente carla agregado con éxito.\n",
      "{'carla': {'email': 'carla@data4blondies.com', 'compras': []}}\n"
     ]
    }
   ],
   "source": [
    "#11. ¡Vamos a agregar a nuestro primer cliente!\n",
    "\n",
    "tiendaserieb.agregar_cliente(\"Carla\", \"carla@data4blondies.com\")"
   ]
  },
  {
   "cell_type": "code",
   "execution_count": 50,
   "metadata": {},
   "outputs": [
    {
     "name": "stdout",
     "output_type": "stream",
     "text": [
      "Nombre: carla, Email: carla@data4blondies.com\n"
     ]
    }
   ],
   "source": [
    "#12. Aquí tenemos a nuestra clienta.\n",
    "tiendaserieb.ver_clientes()"
   ]
  },
  {
   "cell_type": "code",
   "execution_count": 51,
   "metadata": {},
   "outputs": [
    {
     "name": "stdout",
     "output_type": "stream",
     "text": [
      "Compra registrada para carla. Total: 180€\n"
     ]
    }
   ],
   "source": [
    "#13. ¿Registramos la compra de nuestra cliente? ¡Vamos!\n",
    "carrito_carla = {\"dvd videodrome\": {\"precio\": 25, \"cantidad\": 3},\n",
    "                 \"vhs twin peaks\": {\"precio\": 15, \"cantidad\": 7}}\n",
    "\n",
    "tiendaserieb.registrar_compra(\"Carla\", carrito_carla)\n"
   ]
  },
  {
   "cell_type": "code",
   "execution_count": 52,
   "metadata": {},
   "outputs": [
    {
     "name": "stdout",
     "output_type": "stream",
     "text": [
      "Compra: {'carrito': {'dvd videodrome': {'precio': 25, 'cantidad': 3}, 'vhs twin peaks': {'precio': 15, 'cantidad': 7}}, 'total': 180}\n"
     ]
    }
   ],
   "source": [
    "#14. Y aquí tendríamos su historial de compra:\n",
    "\n",
    "tiendaserieb.ver_compras_cliente(\"Carla\")"
   ]
  },
  {
   "cell_type": "code",
   "execution_count": 53,
   "metadata": {},
   "outputs": [
    {
     "name": "stdout",
     "output_type": "stream",
     "text": [
      "Las ventas totales de la tienda son: 205.0€.\n"
     ]
    }
   ],
   "source": [
    "#15. Y ¡voilá! Aquí nuestras ventas del día:\n",
    "\n",
    "tiendaserieb.calcular_ventas_totales()"
   ]
  }
 ],
 "metadata": {
  "kernelspec": {
   "display_name": "base",
   "language": "python",
   "name": "python3"
  },
  "language_info": {
   "codemirror_mode": {
    "name": "ipython",
    "version": 3
   },
   "file_extension": ".py",
   "mimetype": "text/x-python",
   "name": "python",
   "nbconvert_exporter": "python",
   "pygments_lexer": "ipython3",
   "version": "3.11.7"
  }
 },
 "nbformat": 4,
 "nbformat_minor": 2
}
